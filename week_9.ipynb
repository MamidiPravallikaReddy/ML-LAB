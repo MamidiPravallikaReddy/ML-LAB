{
  "nbformat": 4,
  "nbformat_minor": 0,
  "metadata": {
    "colab": {
      "provenance": [],
      "authorship_tag": "ABX9TyN+5b7Daymy4CE4Fmo5KXQ0",
      "include_colab_link": true
    },
    "kernelspec": {
      "name": "python3",
      "display_name": "Python 3"
    },
    "language_info": {
      "name": "python"
    }
  },
  "cells": [
    {
      "cell_type": "markdown",
      "metadata": {
        "id": "view-in-github",
        "colab_type": "text"
      },
      "source": [
        "<a href=\"https://colab.research.google.com/github/MamidiPravallikaReddy/ML-LAB/blob/main/week_9.ipynb\" target=\"_parent\"><img src=\"https://colab.research.google.com/assets/colab-badge.svg\" alt=\"Open In Colab\"/></a>"
      ]
    },
    {
      "cell_type": "code",
      "execution_count": null,
      "metadata": {
        "colab": {
          "base_uri": "https://localhost:8080/"
        },
        "id": "SvsycsOBG1i8",
        "outputId": "e81ed932-b16d-44d5-a51a-ead0ce64ee00"
      },
      "outputs": [
        {
          "output_type": "stream",
          "name": "stdout",
          "text": [
            "0.9990889488055994\n"
          ]
        }
      ],
      "source": [
        "import numpy as np\n",
        "\n",
        "def sigmoid(x):\n",
        "   return 1 / (1 + np.exp(-x))\n",
        "\n",
        "class Neuron:\n",
        "   def __init__(self, weights, bias):\n",
        "      self.weights = weights\n",
        "      self.bias = bias\n",
        "   def feedforward(self, inputs):\n",
        "      total = np.dot(self.weights, inputs) + self.bias\n",
        "      return sigmoid(total)\n",
        "\n",
        "weights = np.array([0, 1])\n",
        "bias = 4\n",
        "n = Neuron(weights, bias)\n",
        "x = np.array([2, 3])\n",
        "print(n.feedforward(x))"
      ]
    },
    {
      "cell_type": "code",
      "source": [
        "import numpy as np\n",
        "\n",
        "class Perceptron:\n",
        "   def __init__(self, learning_rate=0.1, epochs=100):\n",
        "      self.learning_rate = learning_rate\n",
        "      self.epochs = epochs\n",
        "      self.weights = None\n",
        "      self.bias = None\n",
        "   def step_function(self, x):\n",
        "      return np.where(x >= 0, 1, 0)\n",
        "   def fit(self, X, y):\n",
        "      n_samples, n_features = X.shape\n",
        "# initialize weights and bias to 0\n",
        "      self.weights = np.zeros(n_features)\n",
        "      self.bias = 0\n",
        "# iterate over epochs and update weights and bias\n",
        "      for _ in range(self.epochs):\n",
        "         for i in range(n_samples):\n",
        "             linear_output = np.dot(self.weights, X[i]) + self.bias\n",
        "             y_pred = self.step_function(linear_output)\n",
        "# update weights and bias based on error\n",
        "             update = self.learning_rate * (y[i] - y_pred)\n",
        "             self.weights += update * X[i]\n",
        "             self.bias += update\n",
        "   def predict(self, X):\n",
        "      linear_output = np.dot(X, self.weights) + self.bias\n",
        "      y_pred = self.step_function(linear_output)\n",
        "      return y_pred\n",
        "X = np.array([[0, 0], [0, 1], [1, 0], [1, 1]])\n",
        "#y = np.array([0, 0, 0, 1])\n",
        "#y = np.array([0, 1, 1, 1])\n",
        "y = np.array([0, 1, 1, 0])\n",
        "perceptron = Perceptron(learning_rate=0.1,\n",
        "epochs=10)\n",
        "perceptron.fit(X, y)\n",
        "test_data = np.array([[1, 1], [0, 1]])\n",
        "predictions = perceptron.predict(test_data)\n",
        "print(predictions)"
      ],
      "metadata": {
        "colab": {
          "base_uri": "https://localhost:8080/"
        },
        "id": "RgVqjX2YNYzV",
        "outputId": "f06b3c73-f8de-4353-a911-dad1e18bbba2"
      },
      "execution_count": null,
      "outputs": [
        {
          "output_type": "stream",
          "name": "stdout",
          "text": [
            "[0 1]\n"
          ]
        }
      ]
    },
    {
      "cell_type": "code",
      "source": [
        "import numpy as np\n",
        "import numpy as np\n",
        "\n",
        "# Sigmoid activation function\n",
        "def sigmoid(x):\n",
        "    return 1 / (1 + np.exp(-x))\n",
        "class Neuron:\n",
        "    def __init__(self, weights, bias):\n",
        "       self.weights = weights\n",
        "       self.bias = bias\n",
        "    def feedforward(self, inputs):\n",
        "        total = np.dot(self.weights, inputs) + self.bias\n",
        "        return sigmoid(total)\n",
        "\n",
        "class OurNeuralNetwork:\n",
        "    def __init__(self):\n",
        "        weights = np.array([0, 1])\n",
        "        bias = 0\n",
        "# The Neuron class here is from the previous section\n",
        "        self.h1 = Neuron(weights, bias)\n",
        "        self.h2 = Neuron(weights, bias)\n",
        "        self.o1 = Neuron(weights, bias)\n",
        "    def feedforward(self, x):\n",
        "        out_h1 = self.h1.feedforward(x)\n",
        "        out_h2 = self.h2.feedforward(x)\n",
        "# The inputs for o1 are the outputs from h1 and h2\n",
        "        out_o1 = self.o1.feedforward(np.array([out_h1, out_h2]))\n",
        "        return out_o1\n",
        "\n",
        "network = OurNeuralNetwork()\n",
        "x = np.array([2, 3])\n",
        "print(network.feedforward(x)) # 0.7216325609518421"
      ],
      "metadata": {
        "colab": {
          "base_uri": "https://localhost:8080/"
        },
        "id": "b2hAlSF-W3ku",
        "outputId": "f7d8f977-cd92-47dc-9bf2-e73be6dadb77"
      },
      "execution_count": null,
      "outputs": [
        {
          "output_type": "stream",
          "name": "stdout",
          "text": [
            "0.7216325609518421\n"
          ]
        }
      ]
    },
    {
      "cell_type": "code",
      "source": [
        "import sklearn.datasets as skl_data\n",
        "\n",
        "data, labels = skl_data.fetch_openml('mnist_784',version=1, return_X_y=True)\n",
        "print(data.shape)\n",
        "data.head()\n",
        "data = data / 255.0\n",
        "data\n",
        "labels\n",
        "\n",
        "from sklearn.model_selection import train_test_split\n",
        "\n",
        "X_train, X_test, y_train, y_test = train_test_split(data, labels,\n",
        "test_size=.10, random_state=42, stratify=labels)\n",
        "\n",
        "print(X_train.shape)\n",
        "print(X_test.shape)\n",
        "\n",
        "import sklearn.neural_network as skl_nn\n",
        "\n",
        "mlp = skl_nn.MLPClassifier(hidden_layer_sizes=(50),\n",
        "max_iter=10, verbose=1, random_state=1)\n",
        "\n",
        "mlp.fit(X_train,y_train)\n",
        "\n",
        "print(\"Training set score\", mlp.score(X_train, y_train))\n",
        "\n",
        "print(\"Testing set score\", mlp.score(X_test, y_test))\n",
        "\n",
        "index = 346\n",
        "\n",
        "test_digit = X_test.iloc[index].to_numpy().reshape(1,784)\n",
        "\n",
        "test_digit_prediciton = mlp.predict(test_digit)[0]\n",
        "\n",
        "print(\"Predicted value\",test_digit_prediciton)\n",
        "\n",
        "print(\"Actual value\",y_test.iloc[index])"
      ],
      "metadata": {
        "colab": {
          "base_uri": "https://localhost:8080/"
        },
        "id": "nFNUn4l8YDH2",
        "outputId": "e927bde5-ed97-476d-8d50-42eac4293d6a"
      },
      "execution_count": null,
      "outputs": [
        {
          "output_type": "stream",
          "name": "stdout",
          "text": [
            "(70000, 784)\n",
            "(63000, 784)\n",
            "(7000, 784)\n",
            "Iteration 1, loss = 0.50240991\n",
            "Iteration 2, loss = 0.24293823\n",
            "Iteration 3, loss = 0.19396647\n",
            "Iteration 4, loss = 0.16213879\n",
            "Iteration 5, loss = 0.14071148\n",
            "Iteration 6, loss = 0.12341883\n",
            "Iteration 7, loss = 0.10922166\n",
            "Iteration 8, loss = 0.09774355\n",
            "Iteration 9, loss = 0.08919639\n",
            "Iteration 10, loss = 0.08139225\n"
          ]
        },
        {
          "output_type": "stream",
          "name": "stderr",
          "text": [
            "/usr/local/lib/python3.12/dist-packages/sklearn/neural_network/_multilayer_perceptron.py:691: ConvergenceWarning: Stochastic Optimizer: Maximum iterations (10) reached and the optimization hasn't converged yet.\n",
            "  warnings.warn(\n"
          ]
        },
        {
          "output_type": "stream",
          "name": "stdout",
          "text": [
            "Training set score 0.980031746031746\n",
            "Testing set score 0.969\n",
            "Predicted value 9\n",
            "Actual value 9\n"
          ]
        },
        {
          "output_type": "stream",
          "name": "stderr",
          "text": [
            "/usr/local/lib/python3.12/dist-packages/sklearn/utils/validation.py:2739: UserWarning: X does not have valid feature names, but MLPClassifier was fitted with feature names\n",
            "  warnings.warn(\n"
          ]
        }
      ]
    },
    {
      "cell_type": "code",
      "source": [
        "from sklearn.linear_model import Perceptron\n",
        "\n",
        "from sklearn.datasets import load_iris\n",
        "\n",
        "from sklearn.model_selection import train_test_split\n",
        "\n",
        "from sklearn.metrics import accuracy_score\n",
        "\n",
        "iris = load_iris()\n",
        "\n",
        "X_train, X_test, y_train, y_test = train_test_split(iris.data, iris.target,\n",
        "test_size=0.3, random_state=0)\n",
        "\n",
        "perceptron = Perceptron(alpha=0.1)\n",
        "\n",
        "\n",
        "perceptron.fit(X_train, y_train)\n",
        "\n",
        "\n",
        "y_pred = perceptron.predict(X_test)\n",
        "accuracy = accuracy_score(y_test, y_pred)\n",
        "\n",
        "print(\"Accuracy:\", accuracy)"
      ],
      "metadata": {
        "colab": {
          "base_uri": "https://localhost:8080/"
        },
        "id": "w0-DdjvZYi3G",
        "outputId": "0dff3c1d-1cfa-450a-bd26-d5c1547fadbc"
      },
      "execution_count": null,
      "outputs": [
        {
          "output_type": "stream",
          "name": "stdout",
          "text": [
            "Accuracy: 0.8\n"
          ]
        }
      ]
    }
  ]
}