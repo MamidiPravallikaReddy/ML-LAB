{
 "cells": [
  {
   "cell_type": "code",
   "execution_count": 1,
   "id": "d0c19cd7",
   "metadata": {
    "execution": {
     "iopub.execute_input": "2025-08-05T14:51:22.578921Z",
     "iopub.status.busy": "2025-08-05T14:51:22.578513Z",
     "iopub.status.idle": "2025-08-05T14:51:26.000858Z",
     "shell.execute_reply": "2025-08-05T14:51:25.999760Z"
    },
    "papermill": {
     "duration": 3.428923,
     "end_time": "2025-08-05T14:51:26.002660",
     "exception": false,
     "start_time": "2025-08-05T14:51:22.573737",
     "status": "completed"
    },
    "tags": []
   },
   "outputs": [
    {
     "data": {
      "text/html": [
       "<div>\n",
       "<style scoped>\n",
       "    .dataframe tbody tr th:only-of-type {\n",
       "        vertical-align: middle;\n",
       "    }\n",
       "\n",
       "    .dataframe tbody tr th {\n",
       "        vertical-align: top;\n",
       "    }\n",
       "\n",
       "    .dataframe thead th {\n",
       "        text-align: right;\n",
       "    }\n",
       "</style>\n",
       "<table border=\"1\" class=\"dataframe\">\n",
       "  <thead>\n",
       "    <tr style=\"text-align: right;\">\n",
       "      <th></th>\n",
       "      <th>Song_Title</th>\n",
       "      <th>Artist</th>\n",
       "      <th>Genre</th>\n",
       "      <th>Release_Year</th>\n",
       "      <th>Duration_Minutes</th>\n",
       "      <th>Listened_Date</th>\n",
       "      <th>Platform</th>\n",
       "    </tr>\n",
       "  </thead>\n",
       "  <tbody>\n",
       "    <tr>\n",
       "      <th>0</th>\n",
       "      <td>Faded</td>\n",
       "      <td>Alan Walker</td>\n",
       "      <td>Electronic</td>\n",
       "      <td>2024</td>\n",
       "      <td>4.02</td>\n",
       "      <td>2024-02-10</td>\n",
       "      <td>Apple Music</td>\n",
       "    </tr>\n",
       "    <tr>\n",
       "      <th>1</th>\n",
       "      <td>Blinding Lights</td>\n",
       "      <td>The Weeknd</td>\n",
       "      <td>Synth-pop</td>\n",
       "      <td>2018</td>\n",
       "      <td>4.45</td>\n",
       "      <td>2024-05-30</td>\n",
       "      <td>Zing MP3</td>\n",
       "    </tr>\n",
       "    <tr>\n",
       "      <th>2</th>\n",
       "      <td>Faded</td>\n",
       "      <td>Alan Walker</td>\n",
       "      <td>Electronic</td>\n",
       "      <td>2024</td>\n",
       "      <td>4.86</td>\n",
       "      <td>2024-05-07</td>\n",
       "      <td>Zing MP3</td>\n",
       "    </tr>\n",
       "    <tr>\n",
       "      <th>3</th>\n",
       "      <td>Faded</td>\n",
       "      <td>Alan Walker</td>\n",
       "      <td>Electronic</td>\n",
       "      <td>2012</td>\n",
       "      <td>4.92</td>\n",
       "      <td>2024-03-19</td>\n",
       "      <td>YouTube</td>\n",
       "    </tr>\n",
       "    <tr>\n",
       "      <th>4</th>\n",
       "      <td>Bohemian Rhapsody</td>\n",
       "      <td>Queen</td>\n",
       "      <td>Rock</td>\n",
       "      <td>2023</td>\n",
       "      <td>3.90</td>\n",
       "      <td>2024-01-16</td>\n",
       "      <td>Apple Music</td>\n",
       "    </tr>\n",
       "    <tr>\n",
       "      <th>...</th>\n",
       "      <td>...</td>\n",
       "      <td>...</td>\n",
       "      <td>...</td>\n",
       "      <td>...</td>\n",
       "      <td>...</td>\n",
       "      <td>...</td>\n",
       "      <td>...</td>\n",
       "    </tr>\n",
       "    <tr>\n",
       "      <th>95</th>\n",
       "      <td>Counting Stars</td>\n",
       "      <td>OneRepublic</td>\n",
       "      <td>Pop Rock</td>\n",
       "      <td>2013</td>\n",
       "      <td>3.40</td>\n",
       "      <td>2024-05-30</td>\n",
       "      <td>Spotify</td>\n",
       "    </tr>\n",
       "    <tr>\n",
       "      <th>96</th>\n",
       "      <td>Senorita</td>\n",
       "      <td>Shawn Mendes &amp; Camila Cabello</td>\n",
       "      <td>Latin Pop</td>\n",
       "      <td>2024</td>\n",
       "      <td>2.75</td>\n",
       "      <td>2024-06-11</td>\n",
       "      <td>Apple Music</td>\n",
       "    </tr>\n",
       "    <tr>\n",
       "      <th>97</th>\n",
       "      <td>Counting Stars</td>\n",
       "      <td>OneRepublic</td>\n",
       "      <td>Pop Rock</td>\n",
       "      <td>2010</td>\n",
       "      <td>3.57</td>\n",
       "      <td>2024-01-03</td>\n",
       "      <td>Zing MP3</td>\n",
       "    </tr>\n",
       "    <tr>\n",
       "      <th>98</th>\n",
       "      <td>Blinding Lights</td>\n",
       "      <td>The Weeknd</td>\n",
       "      <td>Synth-pop</td>\n",
       "      <td>2012</td>\n",
       "      <td>4.04</td>\n",
       "      <td>2024-06-13</td>\n",
       "      <td>Apple Music</td>\n",
       "    </tr>\n",
       "    <tr>\n",
       "      <th>99</th>\n",
       "      <td>Let Her Go</td>\n",
       "      <td>Passenger</td>\n",
       "      <td>Indie</td>\n",
       "      <td>2013</td>\n",
       "      <td>4.61</td>\n",
       "      <td>2024-01-04</td>\n",
       "      <td>Apple Music</td>\n",
       "    </tr>\n",
       "  </tbody>\n",
       "</table>\n",
       "<p>100 rows × 7 columns</p>\n",
       "</div>"
      ],
      "text/plain": [
       "           Song_Title                         Artist       Genre  \\\n",
       "0               Faded                    Alan Walker  Electronic   \n",
       "1     Blinding Lights                     The Weeknd   Synth-pop   \n",
       "2               Faded                    Alan Walker  Electronic   \n",
       "3               Faded                    Alan Walker  Electronic   \n",
       "4   Bohemian Rhapsody                          Queen        Rock   \n",
       "..                ...                            ...         ...   \n",
       "95     Counting Stars                    OneRepublic    Pop Rock   \n",
       "96           Senorita  Shawn Mendes & Camila Cabello   Latin Pop   \n",
       "97     Counting Stars                    OneRepublic    Pop Rock   \n",
       "98    Blinding Lights                     The Weeknd   Synth-pop   \n",
       "99         Let Her Go                      Passenger       Indie   \n",
       "\n",
       "    Release_Year  Duration_Minutes Listened_Date     Platform  \n",
       "0           2024              4.02    2024-02-10  Apple Music  \n",
       "1           2018              4.45    2024-05-30     Zing MP3  \n",
       "2           2024              4.86    2024-05-07     Zing MP3  \n",
       "3           2012              4.92    2024-03-19      YouTube  \n",
       "4           2023              3.90    2024-01-16  Apple Music  \n",
       "..           ...               ...           ...          ...  \n",
       "95          2013              3.40    2024-05-30      Spotify  \n",
       "96          2024              2.75    2024-06-11  Apple Music  \n",
       "97          2010              3.57    2024-01-03     Zing MP3  \n",
       "98          2012              4.04    2024-06-13  Apple Music  \n",
       "99          2013              4.61    2024-01-04  Apple Music  \n",
       "\n",
       "[100 rows x 7 columns]"
      ]
     },
     "execution_count": 1,
     "metadata": {},
     "output_type": "execute_result"
    }
   ],
   "source": [
    "import pandas as pd\n",
    "import numpy as np\n",
    "from sklearn.model_selection import train_test_split\n",
    "from sklearn.feature_selection import VarianceThreshold\n",
    "from sklearn.feature_selection import mutual_info_classif\n",
    "\n",
    "df=pd.read_csv(\"/kaggle/input/favorite-music-dataset/favorite_music_dataset.csv\")\n",
    "df\n"
   ]
  },
  {
   "cell_type": "code",
   "execution_count": 2,
   "id": "3d07e411",
   "metadata": {
    "execution": {
     "iopub.execute_input": "2025-08-05T14:51:26.011205Z",
     "iopub.status.busy": "2025-08-05T14:51:26.010826Z",
     "iopub.status.idle": "2025-08-05T14:51:26.017082Z",
     "shell.execute_reply": "2025-08-05T14:51:26.016321Z"
    },
    "papermill": {
     "duration": 0.012046,
     "end_time": "2025-08-05T14:51:26.018625",
     "exception": false,
     "start_time": "2025-08-05T14:51:26.006579",
     "status": "completed"
    },
    "tags": []
   },
   "outputs": [
    {
     "data": {
      "text/plain": [
       "(100, 7)"
      ]
     },
     "execution_count": 2,
     "metadata": {},
     "output_type": "execute_result"
    }
   ],
   "source": [
    "df.shape"
   ]
  },
  {
   "cell_type": "code",
   "execution_count": 3,
   "id": "6748b0a1",
   "metadata": {
    "execution": {
     "iopub.execute_input": "2025-08-05T14:51:26.027448Z",
     "iopub.status.busy": "2025-08-05T14:51:26.027085Z",
     "iopub.status.idle": "2025-08-05T14:51:26.032916Z",
     "shell.execute_reply": "2025-08-05T14:51:26.032068Z"
    },
    "papermill": {
     "duration": 0.012132,
     "end_time": "2025-08-05T14:51:26.034570",
     "exception": false,
     "start_time": "2025-08-05T14:51:26.022438",
     "status": "completed"
    },
    "tags": []
   },
   "outputs": [
    {
     "data": {
      "text/plain": [
       "2"
      ]
     },
     "execution_count": 3,
     "metadata": {},
     "output_type": "execute_result"
    }
   ],
   "source": [
    "df.ndim"
   ]
  },
  {
   "cell_type": "code",
   "execution_count": 4,
   "id": "dd42826f",
   "metadata": {
    "execution": {
     "iopub.execute_input": "2025-08-05T14:51:26.043479Z",
     "iopub.status.busy": "2025-08-05T14:51:26.043081Z",
     "iopub.status.idle": "2025-08-05T14:51:26.048598Z",
     "shell.execute_reply": "2025-08-05T14:51:26.047763Z"
    },
    "papermill": {
     "duration": 0.011412,
     "end_time": "2025-08-05T14:51:26.049875",
     "exception": false,
     "start_time": "2025-08-05T14:51:26.038463",
     "status": "completed"
    },
    "tags": []
   },
   "outputs": [
    {
     "data": {
      "text/plain": [
       "700"
      ]
     },
     "execution_count": 4,
     "metadata": {},
     "output_type": "execute_result"
    }
   ],
   "source": [
    "df.size"
   ]
  },
  {
   "cell_type": "code",
   "execution_count": 5,
   "id": "3ae6dee3",
   "metadata": {
    "execution": {
     "iopub.execute_input": "2025-08-05T14:51:26.057863Z",
     "iopub.status.busy": "2025-08-05T14:51:26.057559Z",
     "iopub.status.idle": "2025-08-05T14:51:26.064394Z",
     "shell.execute_reply": "2025-08-05T14:51:26.063381Z"
    },
    "papermill": {
     "duration": 0.012434,
     "end_time": "2025-08-05T14:51:26.065798",
     "exception": false,
     "start_time": "2025-08-05T14:51:26.053364",
     "status": "completed"
    },
    "tags": []
   },
   "outputs": [
    {
     "data": {
      "text/plain": [
       "Index(['Song_Title', 'Artist', 'Genre', 'Release_Year', 'Duration_Minutes',\n",
       "       'Listened_Date', 'Platform'],\n",
       "      dtype='object')"
      ]
     },
     "execution_count": 5,
     "metadata": {},
     "output_type": "execute_result"
    }
   ],
   "source": [
    "df.columns"
   ]
  },
  {
   "cell_type": "code",
   "execution_count": 6,
   "id": "609e8fa8",
   "metadata": {
    "execution": {
     "iopub.execute_input": "2025-08-05T14:51:26.074236Z",
     "iopub.status.busy": "2025-08-05T14:51:26.073870Z",
     "iopub.status.idle": "2025-08-05T14:51:26.082210Z",
     "shell.execute_reply": "2025-08-05T14:51:26.081342Z"
    },
    "papermill": {
     "duration": 0.014317,
     "end_time": "2025-08-05T14:51:26.083645",
     "exception": false,
     "start_time": "2025-08-05T14:51:26.069328",
     "status": "completed"
    },
    "tags": []
   },
   "outputs": [
    {
     "data": {
      "text/plain": [
       "[]"
      ]
     },
     "execution_count": 6,
     "metadata": {},
     "output_type": "execute_result"
    }
   ],
   "source": [
    "[col for col in df.columns if df[col].isnull().sum() > 0]"
   ]
  },
  {
   "cell_type": "code",
   "execution_count": 7,
   "id": "7f4b9535",
   "metadata": {
    "execution": {
     "iopub.execute_input": "2025-08-05T14:51:26.091808Z",
     "iopub.status.busy": "2025-08-05T14:51:26.091506Z",
     "iopub.status.idle": "2025-08-05T14:51:26.103923Z",
     "shell.execute_reply": "2025-08-05T14:51:26.102977Z"
    },
    "papermill": {
     "duration": 0.018365,
     "end_time": "2025-08-05T14:51:26.105538",
     "exception": false,
     "start_time": "2025-08-05T14:51:26.087173",
     "status": "completed"
    },
    "tags": []
   },
   "outputs": [
    {
     "data": {
      "text/html": [
       "<div>\n",
       "<style scoped>\n",
       "    .dataframe tbody tr th:only-of-type {\n",
       "        vertical-align: middle;\n",
       "    }\n",
       "\n",
       "    .dataframe tbody tr th {\n",
       "        vertical-align: top;\n",
       "    }\n",
       "\n",
       "    .dataframe thead th {\n",
       "        text-align: right;\n",
       "    }\n",
       "</style>\n",
       "<table border=\"1\" class=\"dataframe\">\n",
       "  <thead>\n",
       "    <tr style=\"text-align: right;\">\n",
       "      <th></th>\n",
       "      <th>Song_Title</th>\n",
       "      <th>Artist</th>\n",
       "      <th>Genre</th>\n",
       "      <th>Release_Year</th>\n",
       "      <th>Duration_Minutes</th>\n",
       "      <th>Listened_Date</th>\n",
       "      <th>Platform</th>\n",
       "    </tr>\n",
       "  </thead>\n",
       "  <tbody>\n",
       "    <tr>\n",
       "      <th>11</th>\n",
       "      <td>Photograph</td>\n",
       "      <td>Ed Sheeran</td>\n",
       "      <td>Pop</td>\n",
       "      <td>2014</td>\n",
       "      <td>4.24</td>\n",
       "      <td>2024-03-24</td>\n",
       "      <td>Apple Music</td>\n",
       "    </tr>\n",
       "    <tr>\n",
       "      <th>13</th>\n",
       "      <td>Levitating</td>\n",
       "      <td>Dua Lipa</td>\n",
       "      <td>Pop</td>\n",
       "      <td>2023</td>\n",
       "      <td>3.25</td>\n",
       "      <td>2024-01-20</td>\n",
       "      <td>Spotify</td>\n",
       "    </tr>\n",
       "    <tr>\n",
       "      <th>15</th>\n",
       "      <td>Photograph</td>\n",
       "      <td>Ed Sheeran</td>\n",
       "      <td>Pop</td>\n",
       "      <td>2013</td>\n",
       "      <td>4.79</td>\n",
       "      <td>2024-02-20</td>\n",
       "      <td>Spotify</td>\n",
       "    </tr>\n",
       "    <tr>\n",
       "      <th>21</th>\n",
       "      <td>Photograph</td>\n",
       "      <td>Ed Sheeran</td>\n",
       "      <td>Pop</td>\n",
       "      <td>2021</td>\n",
       "      <td>3.34</td>\n",
       "      <td>2024-05-17</td>\n",
       "      <td>Zing MP3</td>\n",
       "    </tr>\n",
       "    <tr>\n",
       "      <th>23</th>\n",
       "      <td>Stay</td>\n",
       "      <td>The Kid LAROI &amp; Justin Bieber</td>\n",
       "      <td>Pop</td>\n",
       "      <td>2020</td>\n",
       "      <td>3.49</td>\n",
       "      <td>2024-03-09</td>\n",
       "      <td>Apple Music</td>\n",
       "    </tr>\n",
       "  </tbody>\n",
       "</table>\n",
       "</div>"
      ],
      "text/plain": [
       "    Song_Title                         Artist Genre  Release_Year  \\\n",
       "11  Photograph                     Ed Sheeran   Pop          2014   \n",
       "13  Levitating                       Dua Lipa   Pop          2023   \n",
       "15  Photograph                     Ed Sheeran   Pop          2013   \n",
       "21  Photograph                     Ed Sheeran   Pop          2021   \n",
       "23        Stay  The Kid LAROI & Justin Bieber   Pop          2020   \n",
       "\n",
       "    Duration_Minutes Listened_Date     Platform  \n",
       "11              4.24    2024-03-24  Apple Music  \n",
       "13              3.25    2024-01-20      Spotify  \n",
       "15              4.79    2024-02-20      Spotify  \n",
       "21              3.34    2024-05-17     Zing MP3  \n",
       "23              3.49    2024-03-09  Apple Music  "
      ]
     },
     "execution_count": 7,
     "metadata": {},
     "output_type": "execute_result"
    }
   ],
   "source": [
    "pop_music = df[df['Genre'] == 'Pop']\n",
    "pop_music.head(5)"
   ]
  },
  {
   "cell_type": "code",
   "execution_count": 8,
   "id": "6ee62a1d",
   "metadata": {
    "execution": {
     "iopub.execute_input": "2025-08-05T14:51:26.114701Z",
     "iopub.status.busy": "2025-08-05T14:51:26.114384Z",
     "iopub.status.idle": "2025-08-05T14:51:26.124544Z",
     "shell.execute_reply": "2025-08-05T14:51:26.123606Z"
    },
    "papermill": {
     "duration": 0.016327,
     "end_time": "2025-08-05T14:51:26.125895",
     "exception": false,
     "start_time": "2025-08-05T14:51:26.109568",
     "status": "completed"
    },
    "tags": []
   },
   "outputs": [
    {
     "name": "stdout",
     "output_type": "stream",
     "text": [
      "Train shape: (80, 6)\n",
      "Test shape: (20, 6)\n"
     ]
    }
   ],
   "source": [
    "target = 'Genre' \n",
    "\n",
    "X = df.drop(columns=[target])\n",
    "y = df[target]\n",
    "\n",
    "X_train, X_test, y_train, y_test = train_test_split(X, y, test_size=0.2, random_state=42)\n",
    "print(\"Train shape:\", X_train.shape)\n",
    "print(\"Test shape:\", X_test.shape)"
   ]
  },
  {
   "cell_type": "code",
   "execution_count": 9,
   "id": "79d93ead",
   "metadata": {
    "execution": {
     "iopub.execute_input": "2025-08-05T14:51:26.134718Z",
     "iopub.status.busy": "2025-08-05T14:51:26.134406Z",
     "iopub.status.idle": "2025-08-05T14:51:26.145859Z",
     "shell.execute_reply": "2025-08-05T14:51:26.144866Z"
    },
    "papermill": {
     "duration": 0.017742,
     "end_time": "2025-08-05T14:51:26.147390",
     "exception": false,
     "start_time": "2025-08-05T14:51:26.129648",
     "status": "completed"
    },
    "tags": []
   },
   "outputs": [
    {
     "name": "stdout",
     "output_type": "stream",
     "text": [
      "Constant Features: []\n"
     ]
    }
   ],
   "source": [
    "constant_features = [col for col in X_train.columns if X_train[col].nunique() == 1]\n",
    "print(\"Constant Features:\", constant_features)\n",
    "\n",
    "X_train = X_train.drop(columns=constant_features)\n",
    "X_test = X_test.drop(columns=constant_features)\n"
   ]
  },
  {
   "cell_type": "code",
   "execution_count": 10,
   "id": "4b4b4d99",
   "metadata": {
    "execution": {
     "iopub.execute_input": "2025-08-05T14:51:26.156064Z",
     "iopub.status.busy": "2025-08-05T14:51:26.155791Z",
     "iopub.status.idle": "2025-08-05T14:51:26.170160Z",
     "shell.execute_reply": "2025-08-05T14:51:26.169326Z"
    },
    "papermill": {
     "duration": 0.020435,
     "end_time": "2025-08-05T14:51:26.171604",
     "exception": false,
     "start_time": "2025-08-05T14:51:26.151169",
     "status": "completed"
    },
    "tags": []
   },
   "outputs": [
    {
     "name": "stdout",
     "output_type": "stream",
     "text": [
      "Quasi-Constant Features: []\n"
     ]
    }
   ],
   "source": [
    "quasi_constant = []\n",
    "for col in X_train.columns:\n",
    "    top_freq = X_train[col].value_counts(normalize=True).max()\n",
    "    if top_freq > 0.99:\n",
    "        quasi_constant.append(col)\n",
    "\n",
    "print(\"Quasi-Constant Features:\", quasi_constant)\n",
    "\n",
    "X_train = X_train.drop(columns=quasi_constant)\n",
    "X_test = X_test.drop(columns=quasi_constant)\n"
   ]
  },
  {
   "cell_type": "code",
   "execution_count": 11,
   "id": "14188932",
   "metadata": {
    "execution": {
     "iopub.execute_input": "2025-08-05T14:51:26.181330Z",
     "iopub.status.busy": "2025-08-05T14:51:26.180988Z",
     "iopub.status.idle": "2025-08-05T14:51:26.196888Z",
     "shell.execute_reply": "2025-08-05T14:51:26.195952Z"
    },
    "papermill": {
     "duration": 0.022938,
     "end_time": "2025-08-05T14:51:26.198422",
     "exception": false,
     "start_time": "2025-08-05T14:51:26.175484",
     "status": "completed"
    },
    "tags": []
   },
   "outputs": [
    {
     "name": "stdout",
     "output_type": "stream",
     "text": [
      "Duplicate Features: []\n"
     ]
    }
   ],
   "source": [
    "dup_features = X_train.T[X_train.T.duplicated()].index.tolist()\n",
    "print(\"Duplicate Features:\", dup_features)\n",
    "\n",
    "X_train = X_train.drop(columns=dup_features)\n",
    "X_test = X_test.drop(columns=dup_features)\n"
   ]
  },
  {
   "cell_type": "code",
   "execution_count": 12,
   "id": "6f5f4cc0",
   "metadata": {
    "execution": {
     "iopub.execute_input": "2025-08-05T14:51:26.207644Z",
     "iopub.status.busy": "2025-08-05T14:51:26.206965Z",
     "iopub.status.idle": "2025-08-05T14:51:27.059248Z",
     "shell.execute_reply": "2025-08-05T14:51:27.058347Z"
    },
    "papermill": {
     "duration": 0.85847,
     "end_time": "2025-08-05T14:51:27.060772",
     "exception": false,
     "start_time": "2025-08-05T14:51:26.202302",
     "status": "completed"
    },
    "tags": []
   },
   "outputs": [
    {
     "data": {
      "image/png": "[encoded data removed]",
      "text/plain": [
       "<Figure size 800x600 with 2 Axes>"
      ]
     },
     "metadata": {},
     "output_type": "display_data"
    }
   ],
   "source": [
    "import matplotlib.pyplot as plt\n",
    "import seaborn as sns\n",
    "\n",
    "\n",
    "corr_matrix = X_train.select_dtypes(include=[np.number]).corr()\n",
    "\n",
    "\n",
    "plt.figure(figsize=(8, 6))\n",
    "sns.heatmap(corr_matrix, annot=True, cmap='coolwarm', fmt=\".2f\")\n",
    "plt.title(\"Feature Correlation Heatmap\", fontsize=14)\n",
    "plt.show()\n"
   ]
  },
  {
   "cell_type": "code",
   "execution_count": 13,
   "id": "faa3a569",
   "metadata": {
    "execution": {
     "iopub.execute_input": "2025-08-05T14:51:27.070706Z",
     "iopub.status.busy": "2025-08-05T14:51:27.070220Z",
     "iopub.status.idle": "2025-08-05T14:51:28.370676Z",
     "shell.execute_reply": "2025-08-05T14:51:28.368724Z"
    },
    "papermill": {
     "duration": 1.308644,
     "end_time": "2025-08-05T14:51:28.373778",
     "exception": false,
     "start_time": "2025-08-05T14:51:27.065134",
     "status": "completed"
    },
    "tags": []
   },
   "outputs": [
    {
     "name": "stdout",
     "output_type": "stream",
     "text": [
      "Top 10 Features by Mutual Information:\n",
      " Song_Title_Blinding Lights    0.632211\n",
      "Artist_Alan Walker            0.500741\n",
      "Artist_The Weeknd             0.391109\n",
      "Artist_Ed Sheeran             0.375955\n",
      "Song_Title_Perfect            0.314087\n",
      "Song_Title_Faded              0.308964\n",
      "Artist_Passenger              0.299330\n",
      "Song_Title_Dance Monkey       0.296791\n",
      "Artist_Billie Eilish          0.287570\n",
      "Song_Title_Peaches            0.284021\n",
      "dtype: float64\n"
     ]
    }
   ],
   "source": [
    "\n",
    "X_train_enc = pd.get_dummies(X_train.fillna(0))\n",
    "X_test_enc = pd.get_dummies(X_test.fillna(0))\n",
    "\n",
    "X_test_enc = X_test_enc.reindex(columns=X_train_enc.columns, fill_value=0)\n",
    "\n",
    "mi_scores = mutual_info_classif(X_train_enc, y_train, discrete_features='auto')\n",
    "mi_series = pd.Series(mi_scores, index=X_train_enc.columns).sort_values(ascending=False)\n",
    "\n",
    "print(\"Top 10 Features by Mutual Information:\\n\", mi_series.head(10))\n"
   ]
  }
 ],
 "metadata": {
  "kaggle": {
   "accelerator": "none",
   "dataSources": [
    {
     "datasetId": 7906789,
     "sourceId": 12525680,
     "sourceType": "datasetVersion"
    },
    {
     "datasetId": 7664666,
     "sourceId": 12169660,
     "sourceType": "datasetVersion"
    }
   ],
   "dockerImageVersionId": 31089,
   "isGpuEnabled": false,
   "isInternetEnabled": false,
   "language": "python",
   "sourceType": "notebook"
  },
  "kernelspec": {
   "display_name": "Python 3",
   "language": "python",
   "name": "python3"
  },
  "language_info": {
   "codemirror_mode": {
    "name": "ipython",
    "version": 3
   },
   "file_extension": ".py",
   "mimetype": "text/x-python",
   "name": "python",
   "nbconvert_exporter": "python",
   "pygments_lexer": "ipython3",
   "version": "3.11.13"
  },
  "papermill": {
   "default_parameters": {},
   "duration": 11.252671,
   "end_time": "2025-08-05T14:51:29.099241",
   "environment_variables": {},
   "exception": null,
   "input_path": "__notebook__.ipynb",
   "output_path": "__notebook__.ipynb",
   "parameters": {},
   "start_time": "2025-08-05T14:51:17.846570",
   "version": "2.6.0"
  }
 },
 "nbformat": 4,
 "nbformat_minor": 5
}
